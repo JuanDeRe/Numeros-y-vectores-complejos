{
 "cells": [
  {
   "cell_type": "markdown",
   "id": "c7d4de9a-e7dc-4cf3-bd8d-7da869ceb9ac",
   "metadata": {},
   "source": [
    "# Hermitian Matrices, Unitary Matrices and Tensor Product"
   ]
  },
  {
   "cell_type": "markdown",
   "id": "007db568-62bf-4098-a52f-281b41db3012",
   "metadata": {},
   "source": [
    "\n",
    "# Understanding Complex Hermitian and Unitary Matrices\n",
    "\n",
    "This tutorial delves into two pivotal concepts in quantum computing and linear algebra: complex Hermitian and Unitary matrices. Both play critical roles in quantum mechanics and quantum computing, underpinning the behavior of quantum systems and the operations performed on them.\n",
    "\n",
    "## Objectives\n",
    "- Define and explore the properties of complex Hermitian matrices.\n",
    "- Understand and implement complex Unitary matrices in Python.\n",
    "- Highlight their significance and applications in quantum computing.\n",
    "\n",
    "Prepare to enhance your mathematical toolkit with these foundational concepts, illustrated with Python examples for a hands-on learning experience.\n"
   ]
  },
  {
   "cell_type": "markdown",
   "id": "172b4789-ccc2-41be-ae1b-fff456a76c41",
   "metadata": {},
   "source": [
    "\n",
    "## Complex Hermitian Matrices\n",
    "\n",
    "A Hermitian matrix, or self-adjoint matrix, is a square matrix that is equal to its own conjugate transpose. This property makes it a natural representation of observable quantities in quantum mechanics.\n",
    "\n",
    "### Properties\n",
    "- The eigenvalues of a Hermitian matrix are always real.\n",
    "- The eigenvectors of a Hermitian matrix corresponding to different eigenvalues are orthogonal.\n",
    "- Hermitian matrices are extensively used in quantum mechanics to describe physical observables.\n",
    "\n",
    "### Python Example: Defining a Hermitian Matrix\n"
   ]
  },
  {
   "cell_type": "code",
   "execution_count": 1,
   "id": "be7b7f14-c501-4fd9-a482-73f4acf8bfd9",
   "metadata": {},
   "outputs": [
    {
     "data": {
      "text/plain": [
       "(True,\n",
       " array([[2.+0.j, 2.-1.j],\n",
       "        [2.+1.j, 3.+0.j]]))"
      ]
     },
     "execution_count": 1,
     "metadata": {},
     "output_type": "execute_result"
    }
   ],
   "source": [
    "\n",
    "import numpy as np\n",
    "\n",
    "# Define a complex Hermitian matrix\n",
    "hermitian_matrix = np.array([[2+0j, 2-1j], [2+1j, 3+0j]])\n",
    "\n",
    "# Check if the matrix is Hermitian\n",
    "is_hermitian = np.allclose(hermitian_matrix, hermitian_matrix.conj().T)\n",
    "\n",
    "is_hermitian, hermitian_matrix\n"
   ]
  },
  {
   "cell_type": "markdown",
   "id": "6c6e41c4-7edb-46e0-b5a3-9dc381541312",
   "metadata": {},
   "source": [
    "\n",
    "## Complex Unitary Matrices\n",
    "\n",
    "A Unitary matrix is a square matrix whose conjugate transpose is also its inverse. Unitary matrices preserve the inner product, making them essential for describing quantum gates and evolution in quantum computing.\n",
    "\n",
    "### Properties\n",
    "- Preserves the norm of vectors, hence preserving quantum states during transformations.\n",
    "- The determinant of a Unitary matrix has an absolute value of 1.\n",
    "- Used to represent reversible quantum operations and time evolution in quantum systems.\n",
    "\n",
    "### Python Example: Defining a Unitary Matrix\n"
   ]
  },
  {
   "cell_type": "code",
   "execution_count": null,
   "id": "72119954-9647-4f66-93e9-c014c05bb48c",
   "metadata": {},
   "outputs": [],
   "source": [
    "\n",
    "# Define a complex Unitary matrix\n",
    "unitary_matrix = np.array([[1/np.sqrt(2), 1/np.sqrt(2)], [1/np.sqrt(2)*1j, -1/np.sqrt(2)*1j]])\n",
    "\n",
    "# Check if the matrix is Unitary\n",
    "# np.eye(2) returns the identity of size 2x2\n",
    "is_unitary = np.allclose(np.dot(unitary_matrix, unitary_matrix.conj().T), np.eye(2))\n",
    "\n",
    "is_unitary, unitary_matrix\n"
   ]
  },
  {
   "cell_type": "markdown",
   "id": "85750bcf-34ab-49ab-9163-509b29e719c9",
   "metadata": {},
   "source": [
    "# Tensor product"
   ]
  },
  {
   "cell_type": "markdown",
   "id": "b85487ee-1d19-47ab-a0a7-e05c8b758b13",
   "metadata": {},
   "source": [
    "\n",
    "## Tensor Product for Complex Vectors\n",
    "\n",
    "The tensor product of two complex vectors creates a new vector in a higher-dimensional space, allowing us to combine quantum states in quantum computing.\n",
    "\n",
    "### Example\n"
   ]
  },
  {
   "cell_type": "code",
   "execution_count": 15,
   "id": "c4619aad-e04f-4787-a8ff-8e324f13b816",
   "metadata": {},
   "outputs": [
    {
     "ename": "ModuleNotFoundError",
     "evalue": "No module named 'numpy'",
     "output_type": "error",
     "traceback": [
      "\u001b[1;31m---------------------------------------------------------------------------\u001b[0m",
      "\u001b[1;31mModuleNotFoundError\u001b[0m                       Traceback (most recent call last)",
      "Cell \u001b[1;32mIn[15], line 1\u001b[0m\n\u001b[1;32m----> 1\u001b[0m \u001b[38;5;28;01mimport\u001b[39;00m\u001b[38;5;250m \u001b[39m\u001b[38;5;21;01mnumpy\u001b[39;00m\u001b[38;5;250m \u001b[39m\u001b[38;5;28;01mas\u001b[39;00m\u001b[38;5;250m \u001b[39m\u001b[38;5;21;01mnp\u001b[39;00m\n\u001b[0;32m      3\u001b[0m \u001b[38;5;66;03m# Define two complex vectors for the tensor product\u001b[39;00m\n\u001b[0;32m      4\u001b[0m v1 \u001b[38;5;241m=\u001b[39m np\u001b[38;5;241m.\u001b[39marray([\u001b[38;5;241m1\u001b[39m\u001b[38;5;241m+\u001b[39m\u001b[38;5;241m2\u001b[39mj, \u001b[38;5;241m3\u001b[39m\u001b[38;5;241m+\u001b[39m\u001b[38;5;241m4\u001b[39mj])\n",
      "\u001b[1;31mModuleNotFoundError\u001b[0m: No module named 'numpy'"
     ]
    }
   ],
   "source": [
    "\n",
    "import numpy as np\n",
    "\n",
    "# Define two complex vectors for the tensor product\n",
    "v1 = np.array([1+2j, 3+4j])\n",
    "v2 = np.array([5+6j, 7+8j])\n",
    "\n",
    "# Calculate the tensor product\n",
    "tensor_product_v = np.kron(v1, v2)\n",
    "\n",
    "tensor_product_v\n"
   ]
  },
  {
   "cell_type": "markdown",
   "id": "aa89e379-8ce8-493d-8b0e-6461a7fc1325",
   "metadata": {},
   "source": [
    "\n",
    "## Tensor Product for Complex Matrices\n",
    "\n",
    "The tensor product for matrices combines individual matrices into a larger matrix, crucial for representing multiple qubit systems in quantum computing.\n",
    "\n",
    "### Example\n"
   ]
  },
  {
   "cell_type": "code",
   "execution_count": null,
   "id": "c558e2f2-8ecf-466a-8fb4-469566157419",
   "metadata": {},
   "outputs": [],
   "source": [
    "\n",
    "# Define two complex matrices for the tensor product\n",
    "M1 = np.array([[1+2j, 3+4j], [5+6j, 7+8j]])\n",
    "M2 = np.array([[9+10j, 11+12j], [13+14j, 15+16j]])\n",
    "\n",
    "# Calculate the tensor product\n",
    "tensor_product_m = np.kron(M1, M2)\n",
    "\n",
    "tensor_product_m\n"
   ]
  },
  {
   "cell_type": "markdown",
   "id": "ffa82608-ea8c-4bc7-b357-a8552a649f0c",
   "metadata": {},
   "source": [
    "# Exercises on Complex Vector and Matrix Operations\n",
    "\n",
    "This set of exercises is designed to test your understanding of various concepts related to complex vector and matrix operations, which are foundational in quantum computing. Each exercise presents a concrete case for you to apply what you've learned about Hermitian matrices, Unitary matrices, and tensor products.\n",
    "\n",
    "NOTE: VERIFY YOUR COMPUTATIONS IN PAPER AND IN THE COMPUTER.\n",
    "\n",
    "## Exercise 1: Complex Hermitian Matrices\n",
    "\n",
    "Consider the matrix:\n",
    "\n",
    "$$ H = \\begin{bmatrix} 3 & 2+i \\\\ 2-i & 1 \\end{bmatrix} $$\n",
    "\n",
    "- Verify if $ H $ is a Hermitian matrix.\n",
    "- If it is, find its eigenvalues.\n",
    "\n",
    "\n"
   ]
  },
  {
   "cell_type": "code",
   "execution_count": 6,
   "id": "88e33dfd-c15e-4cbb-8b20-208efb0aadf7",
   "metadata": {},
   "outputs": [
    {
     "name": "stdout",
     "output_type": "stream",
     "text": [
      "Is a Hermitan Matrix\n",
      "Eigenvalues: \n",
      "[ 4.44948974-5.06745162e-17j -0.44948974+5.06745162e-17j]\n"
     ]
    }
   ],
   "source": [
    "import numpy as np\n",
    "matrix = np.array([[3,complex(2,1)],[complex(2,-1),1]])\n",
    "ishermitan = np.allclose(matrix,matrix.conj().T)\n",
    "if ishermitan:\n",
    "    eigva,eigvec = np.linalg.eig(matrix)\n",
    "    print(\"Is a Hermitan Matrix\")\n",
    "    print(\"Eigenvalues: \")\n",
    "    print(eigva)\n",
    "else:\n",
    "    print(\"Is not a Hermitan Matrix\")\n",
    "    "
   ]
  },
  {
   "cell_type": "markdown",
   "id": "faadeaac",
   "metadata": {},
   "source": [
    "## Exercise 2: Complex Unitary Matrices\n",
    "\n",
    "Consider the matrix:\n",
    "\n",
    "$$ U = \\frac{1}{\\sqrt{2}}\\begin{bmatrix} 1 & i \\\\ i & 1 \\end{bmatrix} $$\n",
    "\n",
    "- Verify if $ U $ is a Unitary matrix.\n",
    "- Compute $ UU^\\dagger $ to confirm its Unitarity, where $ U^\\dagger $ denotes the conjugate transpose of $ U $.\n",
    "\n"
   ]
  },
  {
   "cell_type": "code",
   "execution_count": 3,
   "id": "6ba4d185",
   "metadata": {},
   "outputs": [
    {
     "name": "stdout",
     "output_type": "stream",
     "text": [
      "Is an Unitary Matrix\n",
      "Verify:\n",
      "UU^t = \n",
      "\n",
      "[[1.+0.00000000e+00j 0.+2.23711432e-17j]\n",
      " [0.-2.23711432e-17j 1.+0.00000000e+00j]]\n"
     ]
    }
   ],
   "source": [
    "import numpy as np\n",
    "import math\n",
    "matrix = np.array([[1,complex(0,1)],[complex(0,1),1]])\n",
    "matrix *= 1/math.sqrt(2)\n",
    "isunitary = np.allclose(np.dot(matrix,matrix.conj().T), np.eye(2))\n",
    "if isunitary:\n",
    "    print(\"Is an Unitary Matrix\")\n",
    "    print(\"Verify:\")\n",
    "    print(\"UU^t = \\n\")\n",
    "    print(np.dot(matrix,matrix.conj().T))\n",
    "    \n",
    "else:\n",
    "    print(\"Is not a Unitary Matrix\")"
   ]
  },
  {
   "cell_type": "markdown",
   "id": "e9b353d9",
   "metadata": {},
   "source": [
    "## Exercise 3: Tensor Product for Complex Vectors\n",
    "\n",
    "Given the complex vectors:\n",
    "\n",
    "$$ \\mathbf{v} = \\begin{bmatrix} 1+i \\\\ 2-i \\end{bmatrix}, \\quad \\mathbf{w} = \\begin{bmatrix} 1-2i \\\\ 3 \\end{bmatrix} $$\n",
    "\n",
    "Calculate the tensor product $ \\mathbf{v} \\otimes \\mathbf{w} $.\n",
    "\n",
    "\n"
   ]
  },
  {
   "cell_type": "code",
   "execution_count": 11,
   "id": "52c24560",
   "metadata": {},
   "outputs": [
    {
     "name": "stdout",
     "output_type": "stream",
     "text": [
      "Tensor product:\n",
      "[[-1.+3.j]\n",
      " [ 3.+3.j]\n",
      " [ 4.+3.j]\n",
      " [ 6.-3.j]]\n"
     ]
    }
   ],
   "source": [
    "import numpy as np\n",
    "\n",
    "v1 = np.array([[complex(1,1)],[complex(2,-1)]])\n",
    "v2 = np.array([[complex(1,2)],[3]])\n",
    "print(\"Tensor product:\")\n",
    "print(np.kron(v1,v2))"
   ]
  },
  {
   "cell_type": "markdown",
   "id": "0cd193f8",
   "metadata": {},
   "source": [
    "## Exercise 4: Tensor Product for Complex Matrices\n",
    "\n",
    "Given the matrices:\n",
    "\n",
    "$$ M_1 = \\begin{bmatrix} 0 & 1 \\\\ 1 & 0 \\end{bmatrix}, \\quad M_2 = \\begin{bmatrix} i & 0 \\\\ 0 & -i \\end{bmatrix} $$\n",
    "\n",
    "Calculate the tensor product $ M_1 \\otimes M_2 $.\n",
    "\n"
   ]
  },
  {
   "cell_type": "code",
   "execution_count": 4,
   "id": "b8622e3c",
   "metadata": {},
   "outputs": [
    {
     "name": "stdout",
     "output_type": "stream",
     "text": [
      "Tensor product:\n",
      "[[0.+0.j 0.+0.j 0.+1.j 0.+0.j]\n",
      " [0.+0.j 0.+0.j 0.+0.j 0.-1.j]\n",
      " [0.+1.j 0.+0.j 0.+0.j 0.+0.j]\n",
      " [0.+0.j 0.-1.j 0.+0.j 0.+0.j]]\n"
     ]
    }
   ],
   "source": [
    "import numpy as np\n",
    "\n",
    "m1 = np.array([[0,1],[1,0]])\n",
    "m2 = np.array([[complex(0,1),0],[0,complex(0,-1)]])\n",
    "print(\"Tensor product:\")\n",
    "print(np.kron(m1,m2))"
   ]
  },
  {
   "cell_type": "markdown",
   "id": "ca425c03",
   "metadata": {},
   "source": [
    "## Exercise 5: Modelling quantum computations with vectors and matrices\n",
    "\n",
    "Using matrices and vectors, implement a model of the Mach/Zehnder interferometer.\n",
    "\n",
    "![Mach-Zehnder interferometer](images/Mach-Zehnder-Interferometer.png)\n"
   ]
  },
  {
   "cell_type": "code",
   "execution_count": 26,
   "id": "765b7430",
   "metadata": {},
   "outputs": [
    {
     "name": "stdout",
     "output_type": "stream",
     "text": [
      "|Y0> = \n",
      "[[1]\n",
      " [0]]\n",
      "\n",
      "|Y1> = \n",
      "[[0.70710678]\n",
      " [0.70710678]]\n",
      "\n",
      "|Y2> = \n",
      "[[0.70710678]\n",
      " [0.70710678]]\n",
      "\n",
      "|Y3> = \n",
      "[[1.00000000e+00]\n",
      " [2.23711432e-17]]\n"
     ]
    }
   ],
   "source": [
    "import numpy as np\n",
    "import math\n",
    "\n",
    "# Definición de las compuertas cuánticas\n",
    "H = np.array([[1, 1], [1, -1]]) / math.sqrt(2)\n",
    "X = np.array([[0, 1], [1, 0]])\n",
    "\n",
    "\n",
    "# Estado inicial |0⟩\n",
    "matrix = np.array([[1], [0]])\n",
    "\n",
    "\n",
    "# Posición 1 (Estado inicial)\n",
    "print(\"|Y0> = \")\n",
    "print(matrix)\n",
    "\n",
    "# Posición 2 (Hadamard)\n",
    "matrix = H @ matrix\n",
    "print(\"\\n|Y1> = \")\n",
    "print(matrix)\n",
    "\n",
    "# Posición 3 (X)\n",
    "matrix = X @ matrix\n",
    "print(\"\\n|Y2> = \")\n",
    "print(matrix)\n",
    "\n",
    "# Posición 4 (Hadamard)\n",
    "matrix = H @ matrix\n",
    "print(\"\\n|Y3> = \")\n",
    "print(matrix)\n",
    "\n"
   ]
  },
  {
   "cell_type": "markdown",
   "id": "40857eda",
   "metadata": {},
   "source": [
    "Al calcular el resultado del experimento propuesto podemos ver que obtenemos un vector muy parecido a |0> que tiene 1 en la primera posicion y un valor muy cercano a 0 en la segunda posicion. La razon por la que no obtuvimos 0 excato seguramente fue por las aproximaciones que debe hacer el computador para calcular numeros con tantos digitos. De cualquier manera el resultado es el esperado segun la teoria. \n",
    "\n",
    "Tambien recree el experimento en los computadores cuanticos de IBM y obtuve el siguiente resultado:\n",
    "\n",
    "![EXP IBM 1](images/capturadepantalla.png)\n"
   ]
  },
  {
   "cell_type": "markdown",
   "id": "4913095a",
   "metadata": {},
   "source": [
    "\n",
    "## Exercise 6: Composing quantum systems \n",
    "\n",
    "Using matrices and vectors, implement a model of the following circuit.\n",
    "\n",
    "![Mach-Zehnder interferometer](images/Deutsch-Algorithm.png)\n",
    "\n",
    "Use the following MAtrix for $U_f$:\n",
    "\n",
    "![Mach-Zehnder interferometer](images/ExampleUf.png)"
   ]
  },
  {
   "cell_type": "code",
   "execution_count": 28,
   "id": "3ac1ff5d",
   "metadata": {},
   "outputs": [
    {
     "name": "stdout",
     "output_type": "stream",
     "text": [
      "|Y0> = \n",
      "[[0]\n",
      " [1]\n",
      " [0]\n",
      " [0]]\n",
      "\n",
      "|Y1> = \n",
      "[[ 0.5]\n",
      " [-0.5]\n",
      " [ 0.5]\n",
      " [-0.5]]\n",
      "\n",
      "|Y2> = \n",
      "[[-0.5]\n",
      " [ 0.5]\n",
      " [ 0.5]\n",
      " [-0.5]]\n",
      "\n",
      "|Y3> = \n",
      "[[ 0.        ]\n",
      " [ 0.        ]\n",
      " [-0.70710678]\n",
      " [ 0.70710678]]\n"
     ]
    }
   ],
   "source": [
    "import numpy as np\n",
    "import math\n",
    "\n",
    "# Definición de las compuertas cuánticas\n",
    "H = np.array([[1, 1], [1, -1]]) / math.sqrt(2)\n",
    "X = np.array([[0, 1], [1, 0]])\n",
    "Uf = np.array([[0,1,0,0],[1,0,0,0],[0,0,1,0],[0,0,0,1]])\n",
    "I = np.array([[1,0],[0,1]])\n",
    "\n",
    "# Estado inicial |0> x |1>\n",
    "matrix = np.kron(np.array([[1], [0]]),np.array([[0],[1]]))\n",
    "\n",
    "\n",
    "\n",
    "# Posición 1 (Estado inicial)\n",
    "print(\"|Y0> = \")\n",
    "print(matrix)\n",
    "\n",
    "# Posición 2 (Hadamard x2)\n",
    "matrix = (np.kron(H,H)) @ matrix\n",
    "print(\"\\n|Y1> = \")\n",
    "print(matrix)\n",
    "\n",
    "# Posición 3 (Uf)\n",
    "matrix = Uf @ matrix\n",
    "print(\"\\n|Y2> = \")\n",
    "print(matrix)\n",
    "\n",
    "# Posición 4 (Hadamard)\n",
    "matrix = (np.kron(H,I)) @ matrix\n",
    "print(\"\\n|Y3> = \")\n",
    "print(matrix)"
   ]
  },
  {
   "cell_type": "markdown",
   "id": "5eafe914",
   "metadata": {},
   "source": [
    "Al calcular el resultado del experimento, podemos ver que nos da como resultado un vector unitario que se puede reescribir como:\n",
    "\n",
    "$$\n",
    "\\begin{pmatrix}\n",
    "0 \\\\\n",
    "0 \\\\\n",
    "-\\frac{1}{\\sqrt{2}} \\\\\n",
    "\\frac{1}{\\sqrt{2}}\n",
    "\\end{pmatrix}\n",
    "$$\n",
    "\n",
    "o como:\n",
    "\n",
    "$$\n",
    "-\\frac{1}{\\sqrt{2}} |10\\rangle + \\frac{1}{\\sqrt{2}} |11\\rangle\n",
    "$$\n",
    "\n",
    "lo que quiere decir que la probabilidad del qubit que sale de |1> tiene el 100% de probabilidad de terminar en el estado 1 y el qubit |0> tiene 50% de probabilidad de terminar en el estado 0 y 50% de probabilidad de terminar en el estado 1.\n"
   ]
  }
 ],
 "metadata": {
  "kernelspec": {
   "display_name": ".venv",
   "language": "python",
   "name": "python3"
  },
  "language_info": {
   "codemirror_mode": {
    "name": "ipython",
    "version": 3
   },
   "file_extension": ".py",
   "mimetype": "text/x-python",
   "name": "python",
   "nbconvert_exporter": "python",
   "pygments_lexer": "ipython3",
   "version": "3.13.1"
  }
 },
 "nbformat": 4,
 "nbformat_minor": 5
}
